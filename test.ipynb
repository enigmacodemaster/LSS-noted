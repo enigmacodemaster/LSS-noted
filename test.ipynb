{
 "cells": [
  {
   "cell_type": "code",
   "execution_count": 31,
   "metadata": {},
   "outputs": [
    {
     "data": {
      "text/plain": [
       "tensor([ 50.1429, 127.0000,  10.0000])"
      ]
     },
     "execution_count": 31,
     "metadata": {},
     "output_type": "execute_result"
    }
   ],
   "source": [
    "import torch\n",
    "xs = torch.linspace(0, 352 - 1, 22, dtype=torch.float).view(1, 1, 22).expand(41, 8, 22)\n",
    "ys = torch.linspace(0, 128 - 1, 8, dtype=torch.float).view(1, 8, 1).expand(41, 8, 22)\n",
    "ds = torch.arange(4.0, 45.0, 1.0, dtype=torch.float).view(-1, 1, 1).expand(-1, 8, 22)\n",
    "frustum = torch.stack((xs, ys, ds), -1)\n",
    "frustum[6][7][3]\n",
    "# print(ys)\n",
    "# print(ds.shape)\n"
   ]
  }
 ],
 "metadata": {
  "kernelspec": {
   "display_name": "Orientor",
   "language": "python",
   "name": "python3"
  },
  "language_info": {
   "codemirror_mode": {
    "name": "ipython",
    "version": 3
   },
   "file_extension": ".py",
   "mimetype": "text/x-python",
   "name": "python",
   "nbconvert_exporter": "python",
   "pygments_lexer": "ipython3",
   "version": "3.10.13"
  }
 },
 "nbformat": 4,
 "nbformat_minor": 2
}
