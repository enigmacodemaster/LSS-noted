{
 "cells": [
  {
   "cell_type": "code",
   "execution_count": 31,
   "metadata": {},
   "outputs": [
    {
     "data": {
      "text/plain": [
       "tensor([ 50.1429, 127.0000,  10.0000])"
      ]
     },
     "execution_count": 31,
     "metadata": {},
     "output_type": "execute_result"
    }
   ],
   "source": [
    "import torch\n",
    "xs = torch.linspace(0, 352 - 1, 22, dtype=torch.float).view(1, 1, 22).expand(41, 8, 22)\n",
    "ys = torch.linspace(0, 128 - 1, 8, dtype=torch.float).view(1, 8, 1).expand(41, 8, 22)\n",
    "ds = torch.arange(4.0, 45.0, 1.0, dtype=torch.float).view(-1, 1, 1).expand(-1, 8, 22)\n",
    "frustum = torch.stack((xs, ys, ds), -1)\n",
    "frustum[6][7][3]\n",
    "# print(ys)\n",
    "# print(ds.shape)\n"
   ]
  },
  {
   "cell_type": "code",
   "execution_count": 45,
   "metadata": {},
   "outputs": [
    {
     "name": "stdout",
     "output_type": "stream",
     "text": [
      "tensor([[1., 1., 1.],\n",
      "        [1., 1., 1.],\n",
      "        [1., 1., 1.]])\n"
     ]
    },
    {
     "data": {
      "text/plain": [
       "tensor([[1., 1., 1.],\n",
       "        [2., 2., 2.],\n",
       "        [3., 3., 3.]])"
      ]
     },
     "execution_count": 45,
     "metadata": {},
     "output_type": "execute_result"
    }
   ],
   "source": [
    "import torch\n",
    "\n",
    "# 创建一个随机张量，形状为 168648 x 64\n",
    "x = torch.ones(3, 3)\n",
    "print(x)\n",
    "# 基于第 0 维计算累积和\n",
    "x = torch.cumsum(x, dim=0)\n",
    "x"
   ]
  },
  {
   "cell_type": "code",
   "execution_count": 42,
   "metadata": {},
   "outputs": [
    {
     "name": "stdout",
     "output_type": "stream",
     "text": [
      "tensor([-1.0675,  0.1165, -2.4155, -0.3312,  0.6427])\n",
      "tensor([ 0.1165, -2.4155, -0.3312,  0.6427])\n",
      "tensor([-1.0675,  0.1165, -2.4155, -0.3312])\n"
     ]
    },
    {
     "data": {
      "text/plain": [
       "tensor([True, True, True, True])"
      ]
     },
     "execution_count": 42,
     "metadata": {},
     "output_type": "execute_result"
    }
   ],
   "source": [
    "ranks = torch.randn(5)\n",
    "print(ranks)\n",
    "print(ranks[1:])\n",
    "print(ranks[:-1])\n",
    "(ranks[1:] != ranks[:-1])"
   ]
  },
  {
   "cell_type": "code",
   "execution_count": 46,
   "metadata": {},
   "outputs": [
    {
     "data": {
      "text/plain": [
       "tensor([[1., 1., 1.],\n",
       "        [1., 1., 1.],\n",
       "        [1., 1., 1.]])"
      ]
     },
     "execution_count": 46,
     "metadata": {},
     "output_type": "execute_result"
    }
   ],
   "source": [
    "x = torch.cat((x[:1], x[1:] - x[:-1]))\n",
    "x"
   ]
  }
 ],
 "metadata": {
  "kernelspec": {
   "display_name": "Orientor",
   "language": "python",
   "name": "python3"
  },
  "language_info": {
   "codemirror_mode": {
    "name": "ipython",
    "version": 3
   },
   "file_extension": ".py",
   "mimetype": "text/x-python",
   "name": "python",
   "nbconvert_exporter": "python",
   "pygments_lexer": "ipython3",
   "version": "3.10.13"
  }
 },
 "nbformat": 4,
 "nbformat_minor": 2
}
